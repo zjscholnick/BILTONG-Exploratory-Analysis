{
 "cells": [
  {
   "cell_type": "code",
   "execution_count": 4,
   "id": "5e017b72",
   "metadata": {},
   "outputs": [
    {
     "data": {
      "text/html": [
       "\n",
       "            <style>\n",
       "                .geemap-dark {\n",
       "                    --jp-widgets-color: white;\n",
       "                    --jp-widgets-label-color: white;\n",
       "                    --jp-ui-font-color1: white;\n",
       "                    --jp-layout-color2: #454545;\n",
       "                    background-color: #383838;\n",
       "                }\n",
       "\n",
       "                .geemap-dark .jupyter-button {\n",
       "                    --jp-layout-color3: #383838;\n",
       "                }\n",
       "\n",
       "                .geemap-colab {\n",
       "                    background-color: var(--colab-primary-surface-color, white);\n",
       "                }\n",
       "\n",
       "                .geemap-colab .jupyter-button {\n",
       "                    --jp-layout-color3: var(--colab-primary-surface-color, white);\n",
       "                }\n",
       "            </style>\n",
       "            "
      ],
      "text/plain": [
       "<IPython.core.display.HTML object>"
      ]
     },
     "metadata": {},
     "output_type": "display_data"
    }
   ],
   "source": [
    "import pandas as pd\n",
    "import os \n",
    "import geopandas as gpd\n",
    "import numpy as np\n",
    "import geemap\n",
    "import ee\n",
    "from datetime import datetime"
   ]
  },
  {
   "cell_type": "markdown",
   "id": "e58e3ccf",
   "metadata": {},
   "source": [
    "#### Authenticating my Google earth Engine Cloud Project"
   ]
  },
  {
   "cell_type": "markdown",
   "id": "c9206d5f",
   "metadata": {},
   "source": [
    "Free to set up on GEE Cloud. Will be prompted to authenticate in browser and enter a code in IDE for first-time use."
   ]
  },
  {
   "cell_type": "code",
   "execution_count": null,
   "id": "0819d1f0",
   "metadata": {},
   "outputs": [
    {
     "data": {
      "text/html": [
       "\n",
       "            <style>\n",
       "                .geemap-dark {\n",
       "                    --jp-widgets-color: white;\n",
       "                    --jp-widgets-label-color: white;\n",
       "                    --jp-ui-font-color1: white;\n",
       "                    --jp-layout-color2: #454545;\n",
       "                    background-color: #383838;\n",
       "                }\n",
       "\n",
       "                .geemap-dark .jupyter-button {\n",
       "                    --jp-layout-color3: #383838;\n",
       "                }\n",
       "\n",
       "                .geemap-colab {\n",
       "                    background-color: var(--colab-primary-surface-color, white);\n",
       "                }\n",
       "\n",
       "                .geemap-colab .jupyter-button {\n",
       "                    --jp-layout-color3: var(--colab-primary-surface-color, white);\n",
       "                }\n",
       "            </style>\n",
       "            "
      ],
      "text/plain": [
       "<IPython.core.display.HTML object>"
      ]
     },
     "metadata": {},
     "output_type": "display_data"
    }
   ],
   "source": [
    "ee.Authenticate()\n",
    "# rename the project your own GEE cloud project\n",
    "ee.Initialize(project = 'biltong-465000')"
   ]
  },
  {
   "cell_type": "markdown",
   "id": "704546ab",
   "metadata": {},
   "source": [
    "#### Load in Meat Naturally Polygons"
   ]
  },
  {
   "cell_type": "code",
   "execution_count": 3,
   "id": "3a852883",
   "metadata": {},
   "outputs": [
    {
     "data": {
      "text/html": [
       "\n",
       "            <style>\n",
       "                .geemap-dark {\n",
       "                    --jp-widgets-color: white;\n",
       "                    --jp-widgets-label-color: white;\n",
       "                    --jp-ui-font-color1: white;\n",
       "                    --jp-layout-color2: #454545;\n",
       "                    background-color: #383838;\n",
       "                }\n",
       "\n",
       "                .geemap-dark .jupyter-button {\n",
       "                    --jp-layout-color3: #383838;\n",
       "                }\n",
       "\n",
       "                .geemap-colab {\n",
       "                    background-color: var(--colab-primary-surface-color, white);\n",
       "                }\n",
       "\n",
       "                .geemap-colab .jupyter-button {\n",
       "                    --jp-layout-color3: var(--colab-primary-surface-color, white);\n",
       "                }\n",
       "            </style>\n",
       "            "
      ],
      "text/plain": [
       "<IPython.core.display.HTML object>"
      ]
     },
     "metadata": {},
     "output_type": "display_data"
    }
   ],
   "source": [
    "boundaries = gpd.read_file(\"../Data/250520_GRASS_Active Boundaries.gpkg\")\n",
    "sub_divs = gpd.read_file(\"../Data/250601_GRASS_Association Sub-Divisions.gpkg\")\n",
    "\n",
    "# convert to EE feature collections\n",
    "boundaries_fc = geemap.geopandas_to_ee(boundaries)\n",
    "sub_divs_fc = geemap.geopandas_to_ee(sub_divs)"
   ]
  },
  {
   "cell_type": "markdown",
   "id": "ed3e0ae8",
   "metadata": {},
   "source": [
    "#### Helper Functions to Process Landsat Imagery"
   ]
  },
  {
   "cell_type": "code",
   "execution_count": null,
   "id": "916fb257",
   "metadata": {},
   "outputs": [
    {
     "data": {
      "text/html": [
       "\n",
       "            <style>\n",
       "                .geemap-dark {\n",
       "                    --jp-widgets-color: white;\n",
       "                    --jp-widgets-label-color: white;\n",
       "                    --jp-ui-font-color1: white;\n",
       "                    --jp-layout-color2: #454545;\n",
       "                    background-color: #383838;\n",
       "                }\n",
       "\n",
       "                .geemap-dark .jupyter-button {\n",
       "                    --jp-layout-color3: #383838;\n",
       "                }\n",
       "\n",
       "                .geemap-colab {\n",
       "                    background-color: var(--colab-primary-surface-color, white);\n",
       "                }\n",
       "\n",
       "                .geemap-colab .jupyter-button {\n",
       "                    --jp-layout-color3: var(--colab-primary-surface-color, white);\n",
       "                }\n",
       "            </style>\n",
       "            "
      ],
      "text/plain": [
       "<IPython.core.display.HTML object>"
      ]
     },
     "metadata": {},
     "output_type": "display_data"
    }
   ],
   "source": [
    "def mask_landsat_sr(image):\n",
    "    \"\"\" Masks Landsat imagery to remove clouds, shadows, & snow before analysis\"\"\"\n",
    "    \n",
    "    # built-in Landsat QA_PIXEL band helps us ID reflective surfaces\n",
    "    qa = image.select(\"QA_PIXEL\")\n",
    "    mask = (\n",
    "        qa.bitwiseAnd(1 << 3).eq(0)  # shadow\n",
    "        .And(qa.bitwiseAnd(1 << 4).eq(0))  # snow\n",
    "        .And(qa.bitwiseAnd(1 << 5).eq(0))  # cloud\n",
    "        .And(qa.bitwiseAnd(1 << 7).eq(0))  # cirrus\n",
    "    )\n",
    "    return image.updateMask(mask)\n",
    "\n",
    "def get_collection(year, fc, max_cloud_cover=20):\n",
    "\n",
    "    \"\"\" Returns the appropriate Landsat collection for a given year and feature collection\"\"\"\n",
    "    \"\"\"Calculates NDVI and stores it in a new NDVI band\"\"\"\n",
    "    \n",
    "    start = ee.Date.fromYMD(year, 1, 1)\n",
    "    end   = ee.Date.fromYMD(year, 12, 31)\n",
    "    if year < 2014:\n",
    "        col, red, nir = ee.ImageCollection(\"LANDSAT/LE07/C02/T1_L2\"), \"SR_B3\", \"SR_B4\"\n",
    "    else:\n",
    "        col, red, nir = ee.ImageCollection(\"LANDSAT/LC08/C02/T1_L2\"), \"SR_B4\", \"SR_B5\"\n",
    "    return (\n",
    "        col\n",
    "         .filterDate(start, end)\n",
    "         .filterBounds(fc)\n",
    "         .filter(ee.Filter.lt(\"CLOUD_COVER\", max_cloud_cover))\n",
    "         .map(mask_landsat_sr)\n",
    "         .map(lambda img: img\n",
    "              .select([nir, red])\n",
    "              .multiply(0.0000275)\n",
    "              .normalizedDifference([nir, red])\n",
    "              .rename(\"NDVI\"))\n",
    "    )\n",
    "\n",
    "def ee_fc_to_gdf(fc):\n",
    "    \"\"\" Converts an Earth Engine FeatureCollection to a GeoDataFrame \"\"\" \n",
    "    # this seems like it'd be built-in but I couldn't find it in API\n",
    "\n",
    "    gj = fc.getInfo()\n",
    "    return gpd.GeoDataFrame.from_features(gj['features'])\n",
    "                                          \n",
    "def process_fc(fc, region_name):\n",
    "\n",
    "    \"\"\" Processes a feature collection of imagery to extract NDVI statistics for each year \"\"\"\n",
    "\n",
    "    dfs = []\n",
    "\n",
    "    for year in range(2000, 2024):\n",
    "        print(f\"  • {region_name}: Processing {year}\")\n",
    "        ndvi_mean = get_collection(year, fc).mean()\n",
    "\n",
    "        stats = ndvi_mean.reduceRegions(\n",
    "            collection = fc,\n",
    "            reducer    = ee.Reducer.mean(),\n",
    "            scale      = 30,\n",
    "            tileScale  = 4\n",
    "        ).map(lambda f: f.set(\"year\", year))\n",
    "\n",
    "        df = ee_fc_to_gdf(stats)\n",
    "        df[\"region_type\"] = region_name\n",
    "        dfs.append(df)\n",
    "\n",
    "    return pd.concat(dfs, ignore_index=True)"
   ]
  },
  {
   "cell_type": "code",
   "execution_count": null,
   "id": "f01ad056",
   "metadata": {},
   "outputs": [
    {
     "data": {
      "text/html": [
       "\n",
       "            <style>\n",
       "                .geemap-dark {\n",
       "                    --jp-widgets-color: white;\n",
       "                    --jp-widgets-label-color: white;\n",
       "                    --jp-ui-font-color1: white;\n",
       "                    --jp-layout-color2: #454545;\n",
       "                    background-color: #383838;\n",
       "                }\n",
       "\n",
       "                .geemap-dark .jupyter-button {\n",
       "                    --jp-layout-color3: #383838;\n",
       "                }\n",
       "\n",
       "                .geemap-colab {\n",
       "                    background-color: var(--colab-primary-surface-color, white);\n",
       "                }\n",
       "\n",
       "                .geemap-colab .jupyter-button {\n",
       "                    --jp-layout-color3: var(--colab-primary-surface-color, white);\n",
       "                }\n",
       "            </style>\n",
       "            "
      ],
      "text/plain": [
       "<IPython.core.display.HTML object>"
      ]
     },
     "metadata": {},
     "output_type": "display_data"
    }
   ],
   "source": []
  },
  {
   "cell_type": "code",
   "execution_count": 47,
   "id": "2f3ebefb",
   "metadata": {},
   "outputs": [
    {
     "data": {
      "text/html": [
       "\n",
       "            <style>\n",
       "                .geemap-dark {\n",
       "                    --jp-widgets-color: white;\n",
       "                    --jp-widgets-label-color: white;\n",
       "                    --jp-ui-font-color1: white;\n",
       "                    --jp-layout-color2: #454545;\n",
       "                    background-color: #383838;\n",
       "                }\n",
       "\n",
       "                .geemap-dark .jupyter-button {\n",
       "                    --jp-layout-color3: #383838;\n",
       "                }\n",
       "\n",
       "                .geemap-colab {\n",
       "                    background-color: var(--colab-primary-surface-color, white);\n",
       "                }\n",
       "\n",
       "                .geemap-colab .jupyter-button {\n",
       "                    --jp-layout-color3: var(--colab-primary-surface-color, white);\n",
       "                }\n",
       "            </style>\n",
       "            "
      ],
      "text/plain": [
       "<IPython.core.display.HTML object>"
      ]
     },
     "metadata": {},
     "output_type": "display_data"
    },
    {
     "name": "stdout",
     "output_type": "stream",
     "text": [
      "Starting country‐wide NDVI…\n",
      "  • country: Processing 2000\n",
      "  • country: Processing 2001\n",
      "  • country: Processing 2002\n",
      "  • country: Processing 2003\n",
      "  • country: Processing 2004\n",
      "  • country: Processing 2005\n",
      "  • country: Processing 2006\n",
      "  • country: Processing 2007\n",
      "  • country: Processing 2008\n",
      "  • country: Processing 2009\n",
      "  • country: Processing 2010\n",
      "  • country: Processing 2011\n",
      "  • country: Processing 2012\n"
     ]
    },
    {
     "ename": "EEException",
     "evalue": "Image.reduceRegions: Image has no bands.",
     "output_type": "error",
     "traceback": [
      "\u001b[31m---------------------------------------------------------------------------\u001b[39m",
      "\u001b[31mHttpError\u001b[39m                                 Traceback (most recent call last)",
      "\u001b[36mFile \u001b[39m\u001b[32mc:\\Users\\zjsch\\Documents\\UCSB\\BILTONG\\BILTONG_Overview\\biltong_env\\Lib\\site-packages\\ee\\data.py:408\u001b[39m, in \u001b[36m_execute_cloud_call\u001b[39m\u001b[34m(call, num_retries)\u001b[39m\n\u001b[32m    407\u001b[39m \u001b[38;5;28;01mtry\u001b[39;00m:\n\u001b[32m--> \u001b[39m\u001b[32m408\u001b[39m   \u001b[38;5;28;01mreturn\u001b[39;00m \u001b[43mcall\u001b[49m\u001b[43m.\u001b[49m\u001b[43mexecute\u001b[49m\u001b[43m(\u001b[49m\u001b[43mnum_retries\u001b[49m\u001b[43m=\u001b[49m\u001b[43mnum_retries\u001b[49m\u001b[43m)\u001b[49m\n\u001b[32m    409\u001b[39m \u001b[38;5;28;01mexcept\u001b[39;00m googleapiclient.errors.HttpError \u001b[38;5;28;01mas\u001b[39;00m e:\n",
      "\u001b[36mFile \u001b[39m\u001b[32mc:\\Users\\zjsch\\Documents\\UCSB\\BILTONG\\BILTONG_Overview\\biltong_env\\Lib\\site-packages\\googleapiclient\\_helpers.py:130\u001b[39m, in \u001b[36mpositional.<locals>.positional_decorator.<locals>.positional_wrapper\u001b[39m\u001b[34m(*args, **kwargs)\u001b[39m\n\u001b[32m    129\u001b[39m         logger.warning(message)\n\u001b[32m--> \u001b[39m\u001b[32m130\u001b[39m \u001b[38;5;28;01mreturn\u001b[39;00m \u001b[43mwrapped\u001b[49m\u001b[43m(\u001b[49m\u001b[43m*\u001b[49m\u001b[43margs\u001b[49m\u001b[43m,\u001b[49m\u001b[43m \u001b[49m\u001b[43m*\u001b[49m\u001b[43m*\u001b[49m\u001b[43mkwargs\u001b[49m\u001b[43m)\u001b[49m\n",
      "\u001b[36mFile \u001b[39m\u001b[32mc:\\Users\\zjsch\\Documents\\UCSB\\BILTONG\\BILTONG_Overview\\biltong_env\\Lib\\site-packages\\googleapiclient\\http.py:938\u001b[39m, in \u001b[36mHttpRequest.execute\u001b[39m\u001b[34m(self, http, num_retries)\u001b[39m\n\u001b[32m    937\u001b[39m \u001b[38;5;28;01mif\u001b[39;00m resp.status >= \u001b[32m300\u001b[39m:\n\u001b[32m--> \u001b[39m\u001b[32m938\u001b[39m     \u001b[38;5;28;01mraise\u001b[39;00m HttpError(resp, content, uri=\u001b[38;5;28mself\u001b[39m.uri)\n\u001b[32m    939\u001b[39m \u001b[38;5;28;01mreturn\u001b[39;00m \u001b[38;5;28mself\u001b[39m.postproc(resp, content)\n",
      "\u001b[31mHttpError\u001b[39m: <HttpError 400 when requesting https://earthengine.googleapis.com/v1/projects/biltong-465000/value:compute?prettyPrint=false&alt=json returned \"Image.reduceRegions: Image has no bands.\". Details: \"Image.reduceRegions: Image has no bands.\">",
      "\nDuring handling of the above exception, another exception occurred:\n",
      "\u001b[31mEEException\u001b[39m                               Traceback (most recent call last)",
      "\u001b[36mCell\u001b[39m\u001b[36m \u001b[39m\u001b[32mIn[47]\u001b[39m\u001b[32m, line 2\u001b[39m\n\u001b[32m      1\u001b[39m \u001b[38;5;28mprint\u001b[39m(\u001b[33m\"\u001b[39m\u001b[33mStarting country‐wide NDVI…\u001b[39m\u001b[33m\"\u001b[39m)\n\u001b[32m----> \u001b[39m\u001b[32m2\u001b[39m ndvi_country = \u001b[43mprocess_fc\u001b[49m\u001b[43m(\u001b[49m\u001b[43mboundaries_fc\u001b[49m\u001b[43m,\u001b[49m\u001b[43m \u001b[49m\u001b[33;43m\"\u001b[39;49m\u001b[33;43mcountry\u001b[39;49m\u001b[33;43m\"\u001b[39;49m\u001b[43m)\u001b[49m\n\u001b[32m      3\u001b[39m \u001b[38;5;28mprint\u001b[39m(\u001b[33m\"\u001b[39m\u001b[33mStarting subdivision NDVI…\u001b[39m\u001b[33m\"\u001b[39m)\n\u001b[32m      4\u001b[39m ndvi_subdivision = process_fc(sub_divs_fc, \u001b[33m\"\u001b[39m\u001b[33msubdivision\u001b[39m\u001b[33m\"\u001b[39m)\n",
      "\u001b[36mCell\u001b[39m\u001b[36m \u001b[39m\u001b[32mIn[46]\u001b[39m\u001b[32m, line 21\u001b[39m, in \u001b[36mprocess_fc\u001b[39m\u001b[34m(fc, region_name)\u001b[39m\n\u001b[32m     12\u001b[39m ndvi_mean = get_collection(year, fc).mean()\n\u001b[32m     14\u001b[39m stats = ndvi_mean.reduceRegions(\n\u001b[32m     15\u001b[39m     collection = fc,\n\u001b[32m     16\u001b[39m     reducer    = ee.Reducer.mean(),\n\u001b[32m     17\u001b[39m     scale      = \u001b[32m30\u001b[39m,\n\u001b[32m     18\u001b[39m     tileScale  = \u001b[32m4\u001b[39m\n\u001b[32m     19\u001b[39m ).map(\u001b[38;5;28;01mlambda\u001b[39;00m f: f.set(\u001b[33m\"\u001b[39m\u001b[33myear\u001b[39m\u001b[33m\"\u001b[39m, year))\n\u001b[32m---> \u001b[39m\u001b[32m21\u001b[39m df = \u001b[43mee_fc_to_gdf\u001b[49m\u001b[43m(\u001b[49m\u001b[43mstats\u001b[49m\u001b[43m)\u001b[49m\n\u001b[32m     22\u001b[39m df[\u001b[33m\"\u001b[39m\u001b[33mregion_type\u001b[39m\u001b[33m\"\u001b[39m] = region_name\n\u001b[32m     23\u001b[39m dfs.append(df)\n",
      "\u001b[36mCell\u001b[39m\u001b[36m \u001b[39m\u001b[32mIn[46]\u001b[39m\u001b[32m, line 3\u001b[39m, in \u001b[36mee_fc_to_gdf\u001b[39m\u001b[34m(fc)\u001b[39m\n\u001b[32m      1\u001b[39m \u001b[38;5;28;01mdef\u001b[39;00m\u001b[38;5;250m \u001b[39m\u001b[34mee_fc_to_gdf\u001b[39m(fc):\n\u001b[32m      2\u001b[39m \u001b[38;5;250m    \u001b[39m\u001b[33;03m\"\"\"Pull an ee.FeatureCollection into a GeoPandas GeoDataFrame.\"\"\"\u001b[39;00m\n\u001b[32m----> \u001b[39m\u001b[32m3\u001b[39m     gj = \u001b[43mfc\u001b[49m\u001b[43m.\u001b[49m\u001b[43mgetInfo\u001b[49m\u001b[43m(\u001b[49m\u001b[43m)\u001b[49m\n\u001b[32m      4\u001b[39m     \u001b[38;5;28;01mreturn\u001b[39;00m gpd.GeoDataFrame.from_features(gj[\u001b[33m'\u001b[39m\u001b[33mfeatures\u001b[39m\u001b[33m'\u001b[39m])\n",
      "\u001b[36mFile \u001b[39m\u001b[32mc:\\Users\\zjsch\\Documents\\UCSB\\BILTONG\\BILTONG_Overview\\biltong_env\\Lib\\site-packages\\ee\\collection.py:579\u001b[39m, in \u001b[36mCollection.getInfo\u001b[39m\u001b[34m(self)\u001b[39m\n\u001b[32m    566\u001b[39m \u001b[38;5;28;01mdef\u001b[39;00m\u001b[38;5;250m \u001b[39m\u001b[34mgetInfo\u001b[39m(\u001b[38;5;28mself\u001b[39m) -> Optional[Any]:\n\u001b[32m    567\u001b[39m \u001b[38;5;250m  \u001b[39m\u001b[33;03m\"\"\"Returns all the known information about this collection.\u001b[39;00m\n\u001b[32m    568\u001b[39m \n\u001b[32m    569\u001b[39m \u001b[33;03m  This function makes a REST call to to retrieve all the known information\u001b[39;00m\n\u001b[32m   (...)\u001b[39m\u001b[32m    577\u001b[39m \u001b[33;03m         properties.\u001b[39;00m\n\u001b[32m    578\u001b[39m \u001b[33;03m  \"\"\"\u001b[39;00m\n\u001b[32m--> \u001b[39m\u001b[32m579\u001b[39m   \u001b[38;5;28;01mreturn\u001b[39;00m \u001b[38;5;28;43msuper\u001b[39;49m\u001b[43m(\u001b[49m\u001b[43m)\u001b[49m\u001b[43m.\u001b[49m\u001b[43mgetInfo\u001b[49m\u001b[43m(\u001b[49m\u001b[43m)\u001b[49m\n",
      "\u001b[36mFile \u001b[39m\u001b[32mc:\\Users\\zjsch\\Documents\\UCSB\\BILTONG\\BILTONG_Overview\\biltong_env\\Lib\\site-packages\\ee\\computedobject.py:107\u001b[39m, in \u001b[36mComputedObject.getInfo\u001b[39m\u001b[34m(self)\u001b[39m\n\u001b[32m    101\u001b[39m \u001b[38;5;28;01mdef\u001b[39;00m\u001b[38;5;250m \u001b[39m\u001b[34mgetInfo\u001b[39m(\u001b[38;5;28mself\u001b[39m) -> Optional[Any]:\n\u001b[32m    102\u001b[39m \u001b[38;5;250m  \u001b[39m\u001b[33;03m\"\"\"Fetch and return information about this object.\u001b[39;00m\n\u001b[32m    103\u001b[39m \n\u001b[32m    104\u001b[39m \u001b[33;03m  Returns:\u001b[39;00m\n\u001b[32m    105\u001b[39m \u001b[33;03m    The object can evaluate to anything.\u001b[39;00m\n\u001b[32m    106\u001b[39m \u001b[33;03m  \"\"\"\u001b[39;00m\n\u001b[32m--> \u001b[39m\u001b[32m107\u001b[39m   \u001b[38;5;28;01mreturn\u001b[39;00m \u001b[43mdata\u001b[49m\u001b[43m.\u001b[49m\u001b[43mcomputeValue\u001b[49m\u001b[43m(\u001b[49m\u001b[38;5;28;43mself\u001b[39;49m\u001b[43m)\u001b[49m\n",
      "\u001b[36mFile \u001b[39m\u001b[32mc:\\Users\\zjsch\\Documents\\UCSB\\BILTONG\\BILTONG_Overview\\biltong_env\\Lib\\site-packages\\ee\\data.py:1128\u001b[39m, in \u001b[36mcomputeValue\u001b[39m\u001b[34m(obj)\u001b[39m\n\u001b[32m   1125\u001b[39m body = {\u001b[33m'\u001b[39m\u001b[33mexpression\u001b[39m\u001b[33m'\u001b[39m: serializer.encode(obj, for_cloud_api=\u001b[38;5;28;01mTrue\u001b[39;00m)}\n\u001b[32m   1126\u001b[39m _maybe_populate_workload_tag(body)\n\u001b[32m-> \u001b[39m\u001b[32m1128\u001b[39m \u001b[38;5;28;01mreturn\u001b[39;00m \u001b[43m_execute_cloud_call\u001b[49m\u001b[43m(\u001b[49m\n\u001b[32m   1129\u001b[39m \u001b[43m    \u001b[49m\u001b[43m_get_cloud_projects\u001b[49m\u001b[43m(\u001b[49m\u001b[43m)\u001b[49m\n\u001b[32m   1130\u001b[39m \u001b[43m    \u001b[49m\u001b[43m.\u001b[49m\u001b[43mvalue\u001b[49m\u001b[43m(\u001b[49m\u001b[43m)\u001b[49m\n\u001b[32m   1131\u001b[39m \u001b[43m    \u001b[49m\u001b[43m.\u001b[49m\u001b[43mcompute\u001b[49m\u001b[43m(\u001b[49m\u001b[43mbody\u001b[49m\u001b[43m=\u001b[49m\u001b[43mbody\u001b[49m\u001b[43m,\u001b[49m\u001b[43m \u001b[49m\u001b[43mproject\u001b[49m\u001b[43m=\u001b[49m\u001b[43m_get_projects_path\u001b[49m\u001b[43m(\u001b[49m\u001b[43m)\u001b[49m\u001b[43m,\u001b[49m\u001b[43m \u001b[49m\u001b[43mprettyPrint\u001b[49m\u001b[43m=\u001b[49m\u001b[38;5;28;43;01mFalse\u001b[39;49;00m\u001b[43m)\u001b[49m\n\u001b[32m   1132\u001b[39m \u001b[43m\u001b[49m\u001b[43m)\u001b[49m[\u001b[33m'\u001b[39m\u001b[33mresult\u001b[39m\u001b[33m'\u001b[39m]\n",
      "\u001b[36mFile \u001b[39m\u001b[32mc:\\Users\\zjsch\\Documents\\UCSB\\BILTONG\\BILTONG_Overview\\biltong_env\\Lib\\site-packages\\ee\\data.py:410\u001b[39m, in \u001b[36m_execute_cloud_call\u001b[39m\u001b[34m(call, num_retries)\u001b[39m\n\u001b[32m    408\u001b[39m   \u001b[38;5;28;01mreturn\u001b[39;00m call.execute(num_retries=num_retries)\n\u001b[32m    409\u001b[39m \u001b[38;5;28;01mexcept\u001b[39;00m googleapiclient.errors.HttpError \u001b[38;5;28;01mas\u001b[39;00m e:\n\u001b[32m--> \u001b[39m\u001b[32m410\u001b[39m   \u001b[38;5;28;01mraise\u001b[39;00m _translate_cloud_exception(e)\n",
      "\u001b[31mEEException\u001b[39m: Image.reduceRegions: Image has no bands."
     ]
    }
   ],
   "source": [
    "print(\"Starting country‐wide NDVI…\")\n",
    "ndvi_country = process_fc(boundaries_fc, \"country\")\n",
    "print(\"Starting subdivision NDVI…\")\n",
    "ndvi_subdivision = process_fc(sub_divs_fc, \"subdivision\")\n",
    "\n",
    "ndvi_country.to_file(\"ndvi_country_2000_{}.geojson\".format(datetime.now().year), driver=\"GeoJSON\")\n",
    "ndvi_subdivision.to_file(\"ndvi_subdiv_2000_{}.geojson\".format(datetime.now().year), driver=\"GeoJSON\")\n"
   ]
  }
 ],
 "metadata": {
  "kernelspec": {
   "display_name": "Python 3",
   "language": "python",
   "name": "python3"
  },
  "language_info": {
   "codemirror_mode": {
    "name": "ipython",
    "version": 3
   },
   "file_extension": ".py",
   "mimetype": "text/x-python",
   "name": "python",
   "nbconvert_exporter": "python",
   "pygments_lexer": "ipython3",
   "version": "3.11.13"
  }
 },
 "nbformat": 4,
 "nbformat_minor": 5
}
