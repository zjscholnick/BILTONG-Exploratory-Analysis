{
 "cells": [
  {
   "cell_type": "code",
   "execution_count": 1,
   "id": "5e017b72",
   "metadata": {},
   "outputs": [],
   "source": [
    "import pandas as pd\n",
    "import os \n",
    "import geopandas as gpd\n",
    "import numpy as np\n",
    "import geemap\n",
    "import ee\n",
    "from datetime import datetime"
   ]
  },
  {
   "cell_type": "markdown",
   "id": "e58e3ccf",
   "metadata": {},
   "source": [
    "#### Authenticating my Google earth Engine Cloud Project"
   ]
  },
  {
   "cell_type": "markdown",
   "id": "c9206d5f",
   "metadata": {},
   "source": [
    "Free to set up on GEE Cloud. Will be prompted to authenticate in browser and enter a code in IDE for first-time use."
   ]
  },
  {
   "cell_type": "code",
   "execution_count": 2,
   "id": "0819d1f0",
   "metadata": {},
   "outputs": [
    {
     "data": {
      "text/html": [
       "\n",
       "            <style>\n",
       "                .geemap-dark {\n",
       "                    --jp-widgets-color: white;\n",
       "                    --jp-widgets-label-color: white;\n",
       "                    --jp-ui-font-color1: white;\n",
       "                    --jp-layout-color2: #454545;\n",
       "                    background-color: #383838;\n",
       "                }\n",
       "\n",
       "                .geemap-dark .jupyter-button {\n",
       "                    --jp-layout-color3: #383838;\n",
       "                }\n",
       "\n",
       "                .geemap-colab {\n",
       "                    background-color: var(--colab-primary-surface-color, white);\n",
       "                }\n",
       "\n",
       "                .geemap-colab .jupyter-button {\n",
       "                    --jp-layout-color3: var(--colab-primary-surface-color, white);\n",
       "                }\n",
       "            </style>\n",
       "            "
      ],
      "text/plain": [
       "<IPython.core.display.HTML object>"
      ]
     },
     "metadata": {},
     "output_type": "display_data"
    }
   ],
   "source": [
    "ee.Authenticate()\n",
    "# rename the project your own GEE cloud project\n",
    "ee.Initialize(project = 'biltong-465000')"
   ]
  },
  {
   "cell_type": "markdown",
   "id": "704546ab",
   "metadata": {},
   "source": [
    "#### Load in Meat Naturally Polygons"
   ]
  },
  {
   "cell_type": "code",
   "execution_count": 7,
   "id": "3a852883",
   "metadata": {},
   "outputs": [
    {
     "data": {
      "text/html": [
       "\n",
       "            <style>\n",
       "                .geemap-dark {\n",
       "                    --jp-widgets-color: white;\n",
       "                    --jp-widgets-label-color: white;\n",
       "                    --jp-ui-font-color1: white;\n",
       "                    --jp-layout-color2: #454545;\n",
       "                    background-color: #383838;\n",
       "                }\n",
       "\n",
       "                .geemap-dark .jupyter-button {\n",
       "                    --jp-layout-color3: #383838;\n",
       "                }\n",
       "\n",
       "                .geemap-colab {\n",
       "                    background-color: var(--colab-primary-surface-color, white);\n",
       "                }\n",
       "\n",
       "                .geemap-colab .jupyter-button {\n",
       "                    --jp-layout-color3: var(--colab-primary-surface-color, white);\n",
       "                }\n",
       "            </style>\n",
       "            "
      ],
      "text/plain": [
       "<IPython.core.display.HTML object>"
      ]
     },
     "metadata": {},
     "output_type": "display_data"
    }
   ],
   "source": [
    "boundaries = gpd.read_file(\"../Data/250520_GRASS_Active Boundaries.gpkg\")\n",
    "sub_divs = gpd.read_file(\"../Data/250601_GRASS_Association Sub-Divisions.gpkg\")\n",
    "\n",
    "# convert to EE feature collections\n",
    "boundaries_fc = geemap.geopandas_to_ee(boundaries)\n",
    "sub_divs_fc = geemap.geopandas_to_ee(sub_divs)"
   ]
  },
  {
   "cell_type": "markdown",
   "id": "ed3e0ae8",
   "metadata": {},
   "source": [
    "#### Helper Functions to Process Landsat Imagery"
   ]
  },
  {
   "cell_type": "code",
   "execution_count": null,
   "id": "916fb257",
   "metadata": {},
   "outputs": [
    {
     "data": {
      "text/html": [
       "\n",
       "            <style>\n",
       "                .geemap-dark {\n",
       "                    --jp-widgets-color: white;\n",
       "                    --jp-widgets-label-color: white;\n",
       "                    --jp-ui-font-color1: white;\n",
       "                    --jp-layout-color2: #454545;\n",
       "                    background-color: #383838;\n",
       "                }\n",
       "\n",
       "                .geemap-dark .jupyter-button {\n",
       "                    --jp-layout-color3: #383838;\n",
       "                }\n",
       "\n",
       "                .geemap-colab {\n",
       "                    background-color: var(--colab-primary-surface-color, white);\n",
       "                }\n",
       "\n",
       "                .geemap-colab .jupyter-button {\n",
       "                    --jp-layout-color3: var(--colab-primary-surface-color, white);\n",
       "                }\n",
       "            </style>\n",
       "            "
      ],
      "text/plain": [
       "<IPython.core.display.HTML object>"
      ]
     },
     "metadata": {},
     "output_type": "display_data"
    }
   ],
   "source": [
    "def mask_landsat_sr(image):\n",
    "    \n",
    "    \"\"\" Masks Landsat imagery to remove clouds, shadows, & snow before analysis\"\"\"\n",
    "\n",
    "    # built-in Landsat QA_PIXEL band helps us ID reflective surfaces\n",
    "    qa = image.select(\"QA_PIXEL\")\n",
    "    mask = (\n",
    "        qa.bitwiseAnd(1 << 3).eq(0)  # shadow\n",
    "        .And(qa.bitwiseAnd(1 << 4).eq(0))  # snow\n",
    "        .And(qa.bitwiseAnd(1 << 5).eq(0))  # cloud\n",
    "        .And(qa.bitwiseAnd(1 << 7).eq(0))  # cirrus\n",
    "    )\n",
    "    return image.updateMask(mask)\n",
    "\n",
    "def get_collection(year, fc, max_cloud_cover = 20):\n",
    "    \n",
    "    \"\"\" \n",
    "    Returns the appropriate Landsat collection for a given year and feature collection\n",
    "    Calculates NDVI and stores it in a new NDVI band\n",
    "    \"\"\"\n",
    "\n",
    "    start = ee.Date.fromYMD(year, 1, 1)\n",
    "    end   = ee.Date.fromYMD(year, 12, 31)\n",
    "    if year < 2014:\n",
    "        col, red, nir = ee.ImageCollection(\"LANDSAT/LE07/C02/T1_L2\"), \"SR_B3\", \"SR_B4\"\n",
    "    else:\n",
    "        col, red, nir = ee.ImageCollection(\"LANDSAT/LC08/C02/T1_L2\"), \"SR_B4\", \"SR_B5\"\n",
    "    return (\n",
    "        col\n",
    "         .filterDate(start, end)\n",
    "         .filterBounds(fc)\n",
    "         .filter(ee.Filter.lt(\"CLOUD_COVER\", max_cloud_cover))\n",
    "         .map(mask_landsat_sr)\n",
    "         .map(lambda img: img\n",
    "              .select([nir, red])\n",
    "              .multiply(0.0000275) #Landsat SR scaling factor\n",
    "              .normalizedDifference([nir, red])\n",
    "              .rename(\"NDVI\"))\n",
    "    )\n",
    "\n",
    "def ee_fc_to_gdf(fc):\n",
    "\n",
    "    \"\"\" Converts an Earth Engine FeatureCollection to a GeoDataFrame \"\"\" \n",
    "\n",
    "    # this seems like it'd be built-in but I couldn't find it in API\n",
    "\n",
    "    gj = fc.getInfo()\n",
    "    return gpd.GeoDataFrame.from_features(gj['features'])\n",
    "                                          \n",
    "def process_fc(fc, region_name):\n",
    "\n",
    "    \"\"\" Processes a feature collection of imagery to extract NDVI statistics for each year \"\"\"\n",
    "\n",
    "    dfs = []\n",
    "\n",
    "    for year in range(2000, 2024):\n",
    "        print(f\"  • {region_name}: Processing {year}\")\n",
    "        ndvi_mean = get_collection(year, fc).mean()\n",
    "\n",
    "        stats = ndvi_mean.reduceRegions(\n",
    "            collection = fc,\n",
    "            reducer    = ee.Reducer.mean(),\n",
    "            scale      = 30,\n",
    "            tileScale  = 4\n",
    "        ).map(lambda f: f.set(\"year\", year))\n",
    "\n",
    "        df = ee_fc_to_gdf(stats)\n",
    "        dfs.append(df)\n",
    "\n",
    "    return pd.concat(dfs, ignore_index=True)"
   ]
  },
  {
   "cell_type": "markdown",
   "id": "9bc4fa6b",
   "metadata": {},
   "source": [
    "Processing NDVI for Boundary & Subdivision Boundaries"
   ]
  },
  {
   "cell_type": "code",
   "execution_count": null,
   "id": "2f3ebefb",
   "metadata": {},
   "outputs": [
    {
     "data": {
      "text/html": [
       "\n",
       "            <style>\n",
       "                .geemap-dark {\n",
       "                    --jp-widgets-color: white;\n",
       "                    --jp-widgets-label-color: white;\n",
       "                    --jp-ui-font-color1: white;\n",
       "                    --jp-layout-color2: #454545;\n",
       "                    background-color: #383838;\n",
       "                }\n",
       "\n",
       "                .geemap-dark .jupyter-button {\n",
       "                    --jp-layout-color3: #383838;\n",
       "                }\n",
       "\n",
       "                .geemap-colab {\n",
       "                    background-color: var(--colab-primary-surface-color, white);\n",
       "                }\n",
       "\n",
       "                .geemap-colab .jupyter-button {\n",
       "                    --jp-layout-color3: var(--colab-primary-surface-color, white);\n",
       "                }\n",
       "            </style>\n",
       "            "
      ],
      "text/plain": [
       "<IPython.core.display.HTML object>"
      ]
     },
     "metadata": {},
     "output_type": "display_data"
    },
    {
     "name": "stdout",
     "output_type": "stream",
     "text": [
      "Starting country‐wide NDVI…\n",
      "  • country: Processing 2000\n",
      "  • country: Processing 2001\n",
      "  • country: Processing 2002\n",
      "  • country: Processing 2003\n",
      "  • country: Processing 2004\n",
      "  • country: Processing 2005\n",
      "  • country: Processing 2006\n",
      "  • country: Processing 2007\n",
      "  • country: Processing 2008\n",
      "  • country: Processing 2009\n",
      "  • country: Processing 2010\n",
      "  • country: Processing 2011\n",
      "  • country: Processing 2012\n",
      "  • country: Processing 2013\n",
      "  • country: Processing 2014\n",
      "  • country: Processing 2015\n",
      "  • country: Processing 2016\n",
      "  • country: Processing 2017\n",
      "  • country: Processing 2018\n",
      "  • country: Processing 2019\n",
      "  • country: Processing 2020\n",
      "  • country: Processing 2021\n",
      "  • country: Processing 2022\n",
      "  • country: Processing 2023\n",
      "Starting subdivision NDVI…\n",
      "  • subdivision: Processing 2000\n",
      "  • subdivision: Processing 2001\n",
      "  • subdivision: Processing 2002\n",
      "  • subdivision: Processing 2003\n",
      "  • subdivision: Processing 2004\n",
      "  • subdivision: Processing 2005\n",
      "  • subdivision: Processing 2006\n",
      "  • subdivision: Processing 2007\n",
      "  • subdivision: Processing 2008\n",
      "  • subdivision: Processing 2009\n",
      "  • subdivision: Processing 2010\n",
      "  • subdivision: Processing 2011\n",
      "  • subdivision: Processing 2012\n",
      "  • subdivision: Processing 2013\n",
      "  • subdivision: Processing 2014\n",
      "  • subdivision: Processing 2015\n",
      "  • subdivision: Processing 2016\n",
      "  • subdivision: Processing 2017\n",
      "  • subdivision: Processing 2018\n",
      "  • subdivision: Processing 2019\n",
      "  • subdivision: Processing 2020\n",
      "  • subdivision: Processing 2021\n",
      "  • subdivision: Processing 2022\n",
      "  • subdivision: Processing 2023\n"
     ]
    },
    {
     "name": "stderr",
     "output_type": "stream",
     "text": [
      "C:\\Users\\zjsch\\AppData\\Roaming\\Python\\Python311\\site-packages\\pyogrio\\geopandas.py:662: UserWarning: 'crs' was not provided.  The output dataset will not have projection information defined and may not be usable in other systems.\n",
      "  write(\n",
      "C:\\Users\\zjsch\\AppData\\Roaming\\Python\\Python311\\site-packages\\pyogrio\\geopandas.py:662: UserWarning: 'crs' was not provided.  The output dataset will not have projection information defined and may not be usable in other systems.\n",
      "  write(\n"
     ]
    }
   ],
   "source": [
    "print(\"Starting boundary-wide NDVI…\")\n",
    "ndvi_boundaries = process_fc(boundaries_fc, \"boundaries\")\n",
    "print(\"Starting subdivision NDVI…\")\n",
    "ndvi_subdivisions = process_fc(sub_divs_fc, \"subdivisions\")\n",
    "\n",
    "ndvi_boundaries = ndvi_boundaries.set_crs(epsg=4326)\n",
    "ndvi_subdivisions = ndvi_subdivisions.set_crs(epsg=4326)"
   ]
  },
  {
   "cell_type": "markdown",
   "id": "489b0fd9",
   "metadata": {},
   "source": [
    "#### Pivoting GDFs "
   ]
  },
  {
   "cell_type": "markdown",
   "id": "a49f48e6",
   "metadata": {},
   "source": [
    "Process above adds a new record in GDFs for each year, this moves avg NDVI info to be stored in columns. Should redo code above later to avoid this."
   ]
  },
  {
   "cell_type": "code",
   "execution_count": null,
   "id": "410e36c6",
   "metadata": {},
   "outputs": [
    {
     "data": {
      "text/html": [
       "\n",
       "            <style>\n",
       "                .geemap-dark {\n",
       "                    --jp-widgets-color: white;\n",
       "                    --jp-widgets-label-color: white;\n",
       "                    --jp-ui-font-color1: white;\n",
       "                    --jp-layout-color2: #454545;\n",
       "                    background-color: #383838;\n",
       "                }\n",
       "\n",
       "                .geemap-dark .jupyter-button {\n",
       "                    --jp-layout-color3: #383838;\n",
       "                }\n",
       "\n",
       "                .geemap-colab {\n",
       "                    background-color: var(--colab-primary-surface-color, white);\n",
       "                }\n",
       "\n",
       "                .geemap-colab .jupyter-button {\n",
       "                    --jp-layout-color3: var(--colab-primary-surface-color, white);\n",
       "                }\n",
       "            </style>\n",
       "            "
      ],
      "text/plain": [
       "<IPython.core.display.HTML object>"
      ]
     },
     "metadata": {},
     "output_type": "display_data"
    }
   ],
   "source": [
    "wide_boundaries = ndvi_boundaries.pivot_table(\n",
    "    index=['Active_Carbon', 'Active_RSA', 'Area_ha', 'Association_ID', 'Association_Official',\t'Elig_ha', 'GrazingUnit_ID', 'GrazingUnit_Name', 'Implementing_Partner', 'Landscape_Name', 'Province', 'Start_Year', 'geometry'],\n",
    "    columns='year',\n",
    "    values='mean'\n",
    ").reset_index()\n",
    "\n",
    "new_cols = {}\n",
    "for col in wide_boundaries.columns:\n",
    "    try:\n",
    "        year = int(col)\n",
    "        new_cols[col] = f\"ndvi_{year}\"\n",
    "    except (TypeError, ValueError):\n",
    "        # non-year columns stay unchang\n",
    "        pass\n",
    "\n",
    "wide_boundaries = wide_boundaries.rename(columns = new_cols)\n",
    "\n",
    "gdf_boundaries = gpd.GeoDataFrame(\n",
    "    wide_boundaries,\n",
    "    geometry='geometry',\n",
    "    crs = ndvi_boundaries.crs\n",
    ")\n",
    "\n",
    "\n",
    "wide_subdivisions = ndvi_subdivisions.pivot_table(\n",
    "    index=[\t'Area_ha', 'GrazingUnit_ID', 'SubDiv_ID', 'SubDiv_Seq', 'geometry'],\n",
    "    columns='year',\n",
    "    values='mean'\n",
    ").reset_index()\n",
    "\n",
    "new_cols = {}\n",
    "for col in wide_subdivisions.columns:\n",
    "    try:\n",
    "        year = int(col)\n",
    "        new_cols[col] = f\"ndvi_{year}\"\n",
    "    except (TypeError, ValueError):\n",
    "        # non-year columns stay unchanged\n",
    "        pass\n",
    "\n",
    "wide_subdivisions = wide_subdivisions.rename(columns = new_cols)\n",
    "\n",
    "gdf_subdivisions = gpd.GeoDataFrame(\n",
    "    wide_subdivisions,\n",
    "    geometry='geometry',\n",
    "    crs = ndvi_subdivisions.crs\n",
    ")\n",
    "\n",
    "gdf_boundaries.to_file(\"GRASS_Boundaries_NDVI.gpkg\", driver=\"GPKG\", layer=\"ndvi\")\n",
    "gdf_subdivisions.to_file(\"GRASS_Subdvisions_NDVI.gpkg\", driver=\"GPKG\", layer=\"ndvi\")"
   ]
  }
 ],
 "metadata": {
  "kernelspec": {
   "display_name": "Python 3",
   "language": "python",
   "name": "python3"
  },
  "language_info": {
   "codemirror_mode": {
    "name": "ipython",
    "version": 3
   },
   "file_extension": ".py",
   "mimetype": "text/x-python",
   "name": "python",
   "nbconvert_exporter": "python",
   "pygments_lexer": "ipython3",
   "version": "3.11.13"
  }
 },
 "nbformat": 4,
 "nbformat_minor": 5
}
